{
 "cells": [
  {
   "cell_type": "markdown",
   "metadata": {},
   "source": [
    "# Star Wars: Best Episode?\n",
    "\n",
    "## Introduction\n",
    "\n",
    "Before the release of yet another episode of the Star Wars franchise, the team at [FiveThirtyEight](https://fivethirtyeight.com/) sought to find out if the American _Star Wars_ fans think the **\"The Empire Strikes Back\"** is the best movie of the franchise. To ascertain this, the team surveyed _Star Wars_ fans and received a total of 835 responses, a data which is available on their [GitHub repository](https://github.com/fivethirtyeight/data/tree/master/star-wars-survey). \n",
    "\n",
    "The episodes in contention of being the best are;\n",
    "\n",
    "\n",
    "* **\"The Phantom Menace\"**      - Episode 1\n",
    "* **\"Attack of the Clones\"**    - Episode 2\n",
    "* **\"Revenge of the Sith\"**     - Episode 3\n",
    "* **\"A New Hope\"**              - Episode 4\n",
    "* **\"The Empire Strikes Back\"** - Episode 5\n",
    "* **\"Return of the Jedi\"**      - Episode 6\n",
    "\n",
    "\n",
    "In this current project, the survey data collected by the team will be used to achieve the current aims. The aims of this project are;\n",
    "\n",
    "\n",
    "* To determine the most watched episode of the franchise\n",
    "* To ascertain the highest-ranked episode\n"
   ]
  },
  {
   "cell_type": "code",
   "execution_count": 1,
   "metadata": {},
   "outputs": [],
   "source": [
    "import pandas as pd\n",
    "import numpy as np\n",
    "import matplotlib.pyplot as plt\n",
    "%matplotlib inline \n",
    "\n",
    "pd.set_option('display.max_columns', None)"
   ]
  },
  {
   "cell_type": "markdown",
   "metadata": {},
   "source": [
    "## Read in & Explore Data"
   ]
  },
  {
   "cell_type": "code",
   "execution_count": 3,
   "metadata": {},
   "outputs": [
    {
     "data": {
      "text/html": [
       "<div>\n",
       "<style scoped>\n",
       "    .dataframe tbody tr th:only-of-type {\n",
       "        vertical-align: middle;\n",
       "    }\n",
       "\n",
       "    .dataframe tbody tr th {\n",
       "        vertical-align: top;\n",
       "    }\n",
       "\n",
       "    .dataframe thead th {\n",
       "        text-align: right;\n",
       "    }\n",
       "</style>\n",
       "<table border=\"1\" class=\"dataframe\">\n",
       "  <thead>\n",
       "    <tr style=\"text-align: right;\">\n",
       "      <th></th>\n",
       "      <th>RespondentID</th>\n",
       "      <th>Have you seen any of the 6 films in the Star Wars franchise?</th>\n",
       "      <th>Do you consider yourself to be a fan of the Star Wars film franchise?</th>\n",
       "      <th>Which of the following Star Wars films have you seen? Please select all that apply.</th>\n",
       "      <th>Unnamed: 4</th>\n",
       "      <th>Unnamed: 5</th>\n",
       "      <th>Unnamed: 6</th>\n",
       "      <th>Unnamed: 7</th>\n",
       "      <th>Unnamed: 8</th>\n",
       "      <th>Please rank the Star Wars films in order of preference with 1 being your favorite film in the franchise and 6 being your least favorite film.</th>\n",
       "      <th>Unnamed: 10</th>\n",
       "      <th>Unnamed: 11</th>\n",
       "      <th>Unnamed: 12</th>\n",
       "      <th>Unnamed: 13</th>\n",
       "      <th>Unnamed: 14</th>\n",
       "      <th>Please state whether you view the following characters favorably, unfavorably, or are unfamiliar with him/her.</th>\n",
       "      <th>Unnamed: 16</th>\n",
       "      <th>Unnamed: 17</th>\n",
       "      <th>Unnamed: 18</th>\n",
       "      <th>Unnamed: 19</th>\n",
       "      <th>Unnamed: 20</th>\n",
       "      <th>Unnamed: 21</th>\n",
       "      <th>Unnamed: 22</th>\n",
       "      <th>Unnamed: 23</th>\n",
       "      <th>Unnamed: 24</th>\n",
       "      <th>Unnamed: 25</th>\n",
       "      <th>Unnamed: 26</th>\n",
       "      <th>Unnamed: 27</th>\n",
       "      <th>Unnamed: 28</th>\n",
       "      <th>Which character shot first?</th>\n",
       "      <th>Are you familiar with the Expanded Universe?</th>\n",
       "      <th>Do you consider yourself to be a fan of the Expanded Universe?</th>\n",
       "      <th>Do you consider yourself to be a fan of the Star Trek franchise?</th>\n",
       "      <th>Gender</th>\n",
       "      <th>Age</th>\n",
       "      <th>Household Income</th>\n",
       "      <th>Education</th>\n",
       "      <th>Location (Census Region)</th>\n",
       "    </tr>\n",
       "  </thead>\n",
       "  <tbody>\n",
       "    <tr>\n",
       "      <th>0</th>\n",
       "      <td>3292879998</td>\n",
       "      <td>Yes</td>\n",
       "      <td>Yes</td>\n",
       "      <td>Star Wars: Episode I  The Phantom Menace</td>\n",
       "      <td>Star Wars: Episode II  Attack of the Clones</td>\n",
       "      <td>Star Wars: Episode III  Revenge of the Sith</td>\n",
       "      <td>Star Wars: Episode IV  A New Hope</td>\n",
       "      <td>Star Wars: Episode V The Empire Strikes Back</td>\n",
       "      <td>Star Wars: Episode VI Return of the Jedi</td>\n",
       "      <td>3.0</td>\n",
       "      <td>2.0</td>\n",
       "      <td>1.0</td>\n",
       "      <td>4.0</td>\n",
       "      <td>5.0</td>\n",
       "      <td>6.0</td>\n",
       "      <td>Very favorably</td>\n",
       "      <td>Very favorably</td>\n",
       "      <td>Very favorably</td>\n",
       "      <td>Very favorably</td>\n",
       "      <td>Very favorably</td>\n",
       "      <td>Very favorably</td>\n",
       "      <td>Very favorably</td>\n",
       "      <td>Unfamiliar (N/A)</td>\n",
       "      <td>Unfamiliar (N/A)</td>\n",
       "      <td>Very favorably</td>\n",
       "      <td>Very favorably</td>\n",
       "      <td>Very favorably</td>\n",
       "      <td>Very favorably</td>\n",
       "      <td>Very favorably</td>\n",
       "      <td>I don't understand this question</td>\n",
       "      <td>Yes</td>\n",
       "      <td>No</td>\n",
       "      <td>No</td>\n",
       "      <td>Male</td>\n",
       "      <td>18-29</td>\n",
       "      <td>NaN</td>\n",
       "      <td>High school degree</td>\n",
       "      <td>South Atlantic</td>\n",
       "    </tr>\n",
       "    <tr>\n",
       "      <th>1</th>\n",
       "      <td>3292879538</td>\n",
       "      <td>No</td>\n",
       "      <td>NaN</td>\n",
       "      <td>NaN</td>\n",
       "      <td>NaN</td>\n",
       "      <td>NaN</td>\n",
       "      <td>NaN</td>\n",
       "      <td>NaN</td>\n",
       "      <td>NaN</td>\n",
       "      <td>NaN</td>\n",
       "      <td>NaN</td>\n",
       "      <td>NaN</td>\n",
       "      <td>NaN</td>\n",
       "      <td>NaN</td>\n",
       "      <td>NaN</td>\n",
       "      <td>NaN</td>\n",
       "      <td>NaN</td>\n",
       "      <td>NaN</td>\n",
       "      <td>NaN</td>\n",
       "      <td>NaN</td>\n",
       "      <td>NaN</td>\n",
       "      <td>NaN</td>\n",
       "      <td>NaN</td>\n",
       "      <td>NaN</td>\n",
       "      <td>NaN</td>\n",
       "      <td>NaN</td>\n",
       "      <td>NaN</td>\n",
       "      <td>NaN</td>\n",
       "      <td>NaN</td>\n",
       "      <td>NaN</td>\n",
       "      <td>NaN</td>\n",
       "      <td>NaN</td>\n",
       "      <td>Yes</td>\n",
       "      <td>Male</td>\n",
       "      <td>18-29</td>\n",
       "      <td>$0 - $24,999</td>\n",
       "      <td>Bachelor degree</td>\n",
       "      <td>West South Central</td>\n",
       "    </tr>\n",
       "    <tr>\n",
       "      <th>2</th>\n",
       "      <td>3292765271</td>\n",
       "      <td>Yes</td>\n",
       "      <td>No</td>\n",
       "      <td>Star Wars: Episode I  The Phantom Menace</td>\n",
       "      <td>Star Wars: Episode II  Attack of the Clones</td>\n",
       "      <td>Star Wars: Episode III  Revenge of the Sith</td>\n",
       "      <td>NaN</td>\n",
       "      <td>NaN</td>\n",
       "      <td>NaN</td>\n",
       "      <td>1.0</td>\n",
       "      <td>2.0</td>\n",
       "      <td>3.0</td>\n",
       "      <td>4.0</td>\n",
       "      <td>5.0</td>\n",
       "      <td>6.0</td>\n",
       "      <td>Somewhat favorably</td>\n",
       "      <td>Somewhat favorably</td>\n",
       "      <td>Somewhat favorably</td>\n",
       "      <td>Somewhat favorably</td>\n",
       "      <td>Somewhat favorably</td>\n",
       "      <td>Unfamiliar (N/A)</td>\n",
       "      <td>Unfamiliar (N/A)</td>\n",
       "      <td>Unfamiliar (N/A)</td>\n",
       "      <td>Unfamiliar (N/A)</td>\n",
       "      <td>Unfamiliar (N/A)</td>\n",
       "      <td>Unfamiliar (N/A)</td>\n",
       "      <td>Unfamiliar (N/A)</td>\n",
       "      <td>Unfamiliar (N/A)</td>\n",
       "      <td>Unfamiliar (N/A)</td>\n",
       "      <td>I don't understand this question</td>\n",
       "      <td>No</td>\n",
       "      <td>NaN</td>\n",
       "      <td>No</td>\n",
       "      <td>Male</td>\n",
       "      <td>18-29</td>\n",
       "      <td>$0 - $24,999</td>\n",
       "      <td>High school degree</td>\n",
       "      <td>West North Central</td>\n",
       "    </tr>\n",
       "    <tr>\n",
       "      <th>3</th>\n",
       "      <td>3292763116</td>\n",
       "      <td>Yes</td>\n",
       "      <td>Yes</td>\n",
       "      <td>Star Wars: Episode I  The Phantom Menace</td>\n",
       "      <td>Star Wars: Episode II  Attack of the Clones</td>\n",
       "      <td>Star Wars: Episode III  Revenge of the Sith</td>\n",
       "      <td>Star Wars: Episode IV  A New Hope</td>\n",
       "      <td>Star Wars: Episode V The Empire Strikes Back</td>\n",
       "      <td>Star Wars: Episode VI Return of the Jedi</td>\n",
       "      <td>5.0</td>\n",
       "      <td>6.0</td>\n",
       "      <td>1.0</td>\n",
       "      <td>2.0</td>\n",
       "      <td>4.0</td>\n",
       "      <td>3.0</td>\n",
       "      <td>Very favorably</td>\n",
       "      <td>Very favorably</td>\n",
       "      <td>Very favorably</td>\n",
       "      <td>Very favorably</td>\n",
       "      <td>Very favorably</td>\n",
       "      <td>Somewhat favorably</td>\n",
       "      <td>Very favorably</td>\n",
       "      <td>Somewhat favorably</td>\n",
       "      <td>Somewhat unfavorably</td>\n",
       "      <td>Very favorably</td>\n",
       "      <td>Very favorably</td>\n",
       "      <td>Very favorably</td>\n",
       "      <td>Very favorably</td>\n",
       "      <td>Very favorably</td>\n",
       "      <td>I don't understand this question</td>\n",
       "      <td>No</td>\n",
       "      <td>NaN</td>\n",
       "      <td>Yes</td>\n",
       "      <td>Male</td>\n",
       "      <td>18-29</td>\n",
       "      <td>$100,000 - $149,999</td>\n",
       "      <td>Some college or Associate degree</td>\n",
       "      <td>West North Central</td>\n",
       "    </tr>\n",
       "    <tr>\n",
       "      <th>4</th>\n",
       "      <td>3292731220</td>\n",
       "      <td>Yes</td>\n",
       "      <td>Yes</td>\n",
       "      <td>Star Wars: Episode I  The Phantom Menace</td>\n",
       "      <td>Star Wars: Episode II  Attack of the Clones</td>\n",
       "      <td>Star Wars: Episode III  Revenge of the Sith</td>\n",
       "      <td>Star Wars: Episode IV  A New Hope</td>\n",
       "      <td>Star Wars: Episode V The Empire Strikes Back</td>\n",
       "      <td>Star Wars: Episode VI Return of the Jedi</td>\n",
       "      <td>5.0</td>\n",
       "      <td>4.0</td>\n",
       "      <td>6.0</td>\n",
       "      <td>2.0</td>\n",
       "      <td>1.0</td>\n",
       "      <td>3.0</td>\n",
       "      <td>Very favorably</td>\n",
       "      <td>Somewhat favorably</td>\n",
       "      <td>Somewhat favorably</td>\n",
       "      <td>Somewhat unfavorably</td>\n",
       "      <td>Very favorably</td>\n",
       "      <td>Very unfavorably</td>\n",
       "      <td>Somewhat favorably</td>\n",
       "      <td>Neither favorably nor unfavorably (neutral)</td>\n",
       "      <td>Very favorably</td>\n",
       "      <td>Somewhat favorably</td>\n",
       "      <td>Somewhat favorably</td>\n",
       "      <td>Very unfavorably</td>\n",
       "      <td>Somewhat favorably</td>\n",
       "      <td>Somewhat favorably</td>\n",
       "      <td>Greedo</td>\n",
       "      <td>Yes</td>\n",
       "      <td>No</td>\n",
       "      <td>No</td>\n",
       "      <td>Male</td>\n",
       "      <td>18-29</td>\n",
       "      <td>$100,000 - $149,999</td>\n",
       "      <td>Some college or Associate degree</td>\n",
       "      <td>West North Central</td>\n",
       "    </tr>\n",
       "    <tr>\n",
       "      <th>5</th>\n",
       "      <td>3292719380</td>\n",
       "      <td>Yes</td>\n",
       "      <td>Yes</td>\n",
       "      <td>Star Wars: Episode I  The Phantom Menace</td>\n",
       "      <td>Star Wars: Episode II  Attack of the Clones</td>\n",
       "      <td>Star Wars: Episode III  Revenge of the Sith</td>\n",
       "      <td>Star Wars: Episode IV  A New Hope</td>\n",
       "      <td>Star Wars: Episode V The Empire Strikes Back</td>\n",
       "      <td>Star Wars: Episode VI Return of the Jedi</td>\n",
       "      <td>1.0</td>\n",
       "      <td>4.0</td>\n",
       "      <td>3.0</td>\n",
       "      <td>6.0</td>\n",
       "      <td>5.0</td>\n",
       "      <td>2.0</td>\n",
       "      <td>Very favorably</td>\n",
       "      <td>Very favorably</td>\n",
       "      <td>Very favorably</td>\n",
       "      <td>Very favorably</td>\n",
       "      <td>Very favorably</td>\n",
       "      <td>Neither favorably nor unfavorably (neutral)</td>\n",
       "      <td>Very favorably</td>\n",
       "      <td>Neither favorably nor unfavorably (neutral)</td>\n",
       "      <td>Somewhat favorably</td>\n",
       "      <td>Somewhat favorably</td>\n",
       "      <td>Somewhat favorably</td>\n",
       "      <td>Somewhat favorably</td>\n",
       "      <td>Neither favorably nor unfavorably (neutral)</td>\n",
       "      <td>Very favorably</td>\n",
       "      <td>Han</td>\n",
       "      <td>Yes</td>\n",
       "      <td>No</td>\n",
       "      <td>Yes</td>\n",
       "      <td>Male</td>\n",
       "      <td>18-29</td>\n",
       "      <td>$25,000 - $49,999</td>\n",
       "      <td>Bachelor degree</td>\n",
       "      <td>Middle Atlantic</td>\n",
       "    </tr>\n",
       "    <tr>\n",
       "      <th>6</th>\n",
       "      <td>3292684787</td>\n",
       "      <td>Yes</td>\n",
       "      <td>Yes</td>\n",
       "      <td>Star Wars: Episode I  The Phantom Menace</td>\n",
       "      <td>Star Wars: Episode II  Attack of the Clones</td>\n",
       "      <td>Star Wars: Episode III  Revenge of the Sith</td>\n",
       "      <td>Star Wars: Episode IV  A New Hope</td>\n",
       "      <td>Star Wars: Episode V The Empire Strikes Back</td>\n",
       "      <td>Star Wars: Episode VI Return of the Jedi</td>\n",
       "      <td>6.0</td>\n",
       "      <td>5.0</td>\n",
       "      <td>4.0</td>\n",
       "      <td>3.0</td>\n",
       "      <td>1.0</td>\n",
       "      <td>2.0</td>\n",
       "      <td>Very favorably</td>\n",
       "      <td>Very favorably</td>\n",
       "      <td>Somewhat favorably</td>\n",
       "      <td>Somewhat favorably</td>\n",
       "      <td>Very favorably</td>\n",
       "      <td>Very favorably</td>\n",
       "      <td>Very favorably</td>\n",
       "      <td>Very favorably</td>\n",
       "      <td>Very favorably</td>\n",
       "      <td>Somewhat favorably</td>\n",
       "      <td>Very favorably</td>\n",
       "      <td>Somewhat unfavorably</td>\n",
       "      <td>Somewhat favorably</td>\n",
       "      <td>Very favorably</td>\n",
       "      <td>Han</td>\n",
       "      <td>Yes</td>\n",
       "      <td>No</td>\n",
       "      <td>No</td>\n",
       "      <td>Male</td>\n",
       "      <td>18-29</td>\n",
       "      <td>NaN</td>\n",
       "      <td>High school degree</td>\n",
       "      <td>East North Central</td>\n",
       "    </tr>\n",
       "    <tr>\n",
       "      <th>7</th>\n",
       "      <td>3292663732</td>\n",
       "      <td>Yes</td>\n",
       "      <td>Yes</td>\n",
       "      <td>Star Wars: Episode I  The Phantom Menace</td>\n",
       "      <td>Star Wars: Episode II  Attack of the Clones</td>\n",
       "      <td>Star Wars: Episode III  Revenge of the Sith</td>\n",
       "      <td>Star Wars: Episode IV  A New Hope</td>\n",
       "      <td>Star Wars: Episode V The Empire Strikes Back</td>\n",
       "      <td>Star Wars: Episode VI Return of the Jedi</td>\n",
       "      <td>4.0</td>\n",
       "      <td>5.0</td>\n",
       "      <td>6.0</td>\n",
       "      <td>3.0</td>\n",
       "      <td>2.0</td>\n",
       "      <td>1.0</td>\n",
       "      <td>Very favorably</td>\n",
       "      <td>Somewhat favorably</td>\n",
       "      <td>Very favorably</td>\n",
       "      <td>Neither favorably nor unfavorably (neutral)</td>\n",
       "      <td>Very favorably</td>\n",
       "      <td>Very unfavorably</td>\n",
       "      <td>Somewhat unfavorably</td>\n",
       "      <td>Neither favorably nor unfavorably (neutral)</td>\n",
       "      <td>Somewhat favorably</td>\n",
       "      <td>Somewhat favorably</td>\n",
       "      <td>Somewhat favorably</td>\n",
       "      <td>Very unfavorably</td>\n",
       "      <td>Somewhat unfavorably</td>\n",
       "      <td>Very favorably</td>\n",
       "      <td>Han</td>\n",
       "      <td>No</td>\n",
       "      <td>NaN</td>\n",
       "      <td>Yes</td>\n",
       "      <td>Male</td>\n",
       "      <td>18-29</td>\n",
       "      <td>NaN</td>\n",
       "      <td>High school degree</td>\n",
       "      <td>South Atlantic</td>\n",
       "    </tr>\n",
       "    <tr>\n",
       "      <th>8</th>\n",
       "      <td>3292654043</td>\n",
       "      <td>Yes</td>\n",
       "      <td>Yes</td>\n",
       "      <td>Star Wars: Episode I  The Phantom Menace</td>\n",
       "      <td>Star Wars: Episode II  Attack of the Clones</td>\n",
       "      <td>Star Wars: Episode III  Revenge of the Sith</td>\n",
       "      <td>Star Wars: Episode IV  A New Hope</td>\n",
       "      <td>Star Wars: Episode V The Empire Strikes Back</td>\n",
       "      <td>Star Wars: Episode VI Return of the Jedi</td>\n",
       "      <td>5.0</td>\n",
       "      <td>4.0</td>\n",
       "      <td>6.0</td>\n",
       "      <td>2.0</td>\n",
       "      <td>1.0</td>\n",
       "      <td>3.0</td>\n",
       "      <td>Very favorably</td>\n",
       "      <td>Somewhat unfavorably</td>\n",
       "      <td>Somewhat favorably</td>\n",
       "      <td>Somewhat favorably</td>\n",
       "      <td>Somewhat favorably</td>\n",
       "      <td>Very favorably</td>\n",
       "      <td>Very favorably</td>\n",
       "      <td>Very favorably</td>\n",
       "      <td>Very favorably</td>\n",
       "      <td>Neither favorably nor unfavorably (neutral)</td>\n",
       "      <td>Somewhat favorably</td>\n",
       "      <td>Very unfavorably</td>\n",
       "      <td>Somewhat unfavorably</td>\n",
       "      <td>Somewhat favorably</td>\n",
       "      <td>Han</td>\n",
       "      <td>No</td>\n",
       "      <td>NaN</td>\n",
       "      <td>No</td>\n",
       "      <td>Male</td>\n",
       "      <td>18-29</td>\n",
       "      <td>$0 - $24,999</td>\n",
       "      <td>Some college or Associate degree</td>\n",
       "      <td>South Atlantic</td>\n",
       "    </tr>\n",
       "    <tr>\n",
       "      <th>9</th>\n",
       "      <td>3292640424</td>\n",
       "      <td>Yes</td>\n",
       "      <td>No</td>\n",
       "      <td>NaN</td>\n",
       "      <td>Star Wars: Episode II  Attack of the Clones</td>\n",
       "      <td>NaN</td>\n",
       "      <td>NaN</td>\n",
       "      <td>NaN</td>\n",
       "      <td>NaN</td>\n",
       "      <td>1.0</td>\n",
       "      <td>2.0</td>\n",
       "      <td>3.0</td>\n",
       "      <td>4.0</td>\n",
       "      <td>5.0</td>\n",
       "      <td>6.0</td>\n",
       "      <td>Neither favorably nor unfavorably (neutral)</td>\n",
       "      <td>Very favorably</td>\n",
       "      <td>Very favorably</td>\n",
       "      <td>Very favorably</td>\n",
       "      <td>Very favorably</td>\n",
       "      <td>Somewhat unfavorably</td>\n",
       "      <td>Very favorably</td>\n",
       "      <td>Somewhat unfavorably</td>\n",
       "      <td>Somewhat unfavorably</td>\n",
       "      <td>Very favorably</td>\n",
       "      <td>Very favorably</td>\n",
       "      <td>Very favorably</td>\n",
       "      <td>Somewhat unfavorably</td>\n",
       "      <td>Very favorably</td>\n",
       "      <td>I don't understand this question</td>\n",
       "      <td>No</td>\n",
       "      <td>NaN</td>\n",
       "      <td>No</td>\n",
       "      <td>Male</td>\n",
       "      <td>18-29</td>\n",
       "      <td>$25,000 - $49,999</td>\n",
       "      <td>Some college or Associate degree</td>\n",
       "      <td>Pacific</td>\n",
       "    </tr>\n",
       "  </tbody>\n",
       "</table>\n",
       "</div>"
      ],
      "text/plain": [
       "   RespondentID Have you seen any of the 6 films in the Star Wars franchise?  \\\n",
       "0    3292879998                                                Yes             \n",
       "1    3292879538                                                 No             \n",
       "2    3292765271                                                Yes             \n",
       "3    3292763116                                                Yes             \n",
       "4    3292731220                                                Yes             \n",
       "5    3292719380                                                Yes             \n",
       "6    3292684787                                                Yes             \n",
       "7    3292663732                                                Yes             \n",
       "8    3292654043                                                Yes             \n",
       "9    3292640424                                                Yes             \n",
       "\n",
       "  Do you consider yourself to be a fan of the Star Wars film franchise?  \\\n",
       "0                                                Yes                      \n",
       "1                                                NaN                      \n",
       "2                                                 No                      \n",
       "3                                                Yes                      \n",
       "4                                                Yes                      \n",
       "5                                                Yes                      \n",
       "6                                                Yes                      \n",
       "7                                                Yes                      \n",
       "8                                                Yes                      \n",
       "9                                                 No                      \n",
       "\n",
       "  Which of the following Star Wars films have you seen? Please select all that apply.  \\\n",
       "0           Star Wars: Episode I  The Phantom Menace                                    \n",
       "1                                                NaN                                    \n",
       "2           Star Wars: Episode I  The Phantom Menace                                    \n",
       "3           Star Wars: Episode I  The Phantom Menace                                    \n",
       "4           Star Wars: Episode I  The Phantom Menace                                    \n",
       "5           Star Wars: Episode I  The Phantom Menace                                    \n",
       "6           Star Wars: Episode I  The Phantom Menace                                    \n",
       "7           Star Wars: Episode I  The Phantom Menace                                    \n",
       "8           Star Wars: Episode I  The Phantom Menace                                    \n",
       "9                                                NaN                                    \n",
       "\n",
       "                                    Unnamed: 4  \\\n",
       "0  Star Wars: Episode II  Attack of the Clones   \n",
       "1                                          NaN   \n",
       "2  Star Wars: Episode II  Attack of the Clones   \n",
       "3  Star Wars: Episode II  Attack of the Clones   \n",
       "4  Star Wars: Episode II  Attack of the Clones   \n",
       "5  Star Wars: Episode II  Attack of the Clones   \n",
       "6  Star Wars: Episode II  Attack of the Clones   \n",
       "7  Star Wars: Episode II  Attack of the Clones   \n",
       "8  Star Wars: Episode II  Attack of the Clones   \n",
       "9  Star Wars: Episode II  Attack of the Clones   \n",
       "\n",
       "                                    Unnamed: 5  \\\n",
       "0  Star Wars: Episode III  Revenge of the Sith   \n",
       "1                                          NaN   \n",
       "2  Star Wars: Episode III  Revenge of the Sith   \n",
       "3  Star Wars: Episode III  Revenge of the Sith   \n",
       "4  Star Wars: Episode III  Revenge of the Sith   \n",
       "5  Star Wars: Episode III  Revenge of the Sith   \n",
       "6  Star Wars: Episode III  Revenge of the Sith   \n",
       "7  Star Wars: Episode III  Revenge of the Sith   \n",
       "8  Star Wars: Episode III  Revenge of the Sith   \n",
       "9                                          NaN   \n",
       "\n",
       "                          Unnamed: 6  \\\n",
       "0  Star Wars: Episode IV  A New Hope   \n",
       "1                                NaN   \n",
       "2                                NaN   \n",
       "3  Star Wars: Episode IV  A New Hope   \n",
       "4  Star Wars: Episode IV  A New Hope   \n",
       "5  Star Wars: Episode IV  A New Hope   \n",
       "6  Star Wars: Episode IV  A New Hope   \n",
       "7  Star Wars: Episode IV  A New Hope   \n",
       "8  Star Wars: Episode IV  A New Hope   \n",
       "9                                NaN   \n",
       "\n",
       "                                     Unnamed: 7  \\\n",
       "0  Star Wars: Episode V The Empire Strikes Back   \n",
       "1                                           NaN   \n",
       "2                                           NaN   \n",
       "3  Star Wars: Episode V The Empire Strikes Back   \n",
       "4  Star Wars: Episode V The Empire Strikes Back   \n",
       "5  Star Wars: Episode V The Empire Strikes Back   \n",
       "6  Star Wars: Episode V The Empire Strikes Back   \n",
       "7  Star Wars: Episode V The Empire Strikes Back   \n",
       "8  Star Wars: Episode V The Empire Strikes Back   \n",
       "9                                           NaN   \n",
       "\n",
       "                                 Unnamed: 8  \\\n",
       "0  Star Wars: Episode VI Return of the Jedi   \n",
       "1                                       NaN   \n",
       "2                                       NaN   \n",
       "3  Star Wars: Episode VI Return of the Jedi   \n",
       "4  Star Wars: Episode VI Return of the Jedi   \n",
       "5  Star Wars: Episode VI Return of the Jedi   \n",
       "6  Star Wars: Episode VI Return of the Jedi   \n",
       "7  Star Wars: Episode VI Return of the Jedi   \n",
       "8  Star Wars: Episode VI Return of the Jedi   \n",
       "9                                       NaN   \n",
       "\n",
       "   Please rank the Star Wars films in order of preference with 1 being your favorite film in the franchise and 6 being your least favorite film.  \\\n",
       "0                                                3.0                                                                                               \n",
       "1                                                NaN                                                                                               \n",
       "2                                                1.0                                                                                               \n",
       "3                                                5.0                                                                                               \n",
       "4                                                5.0                                                                                               \n",
       "5                                                1.0                                                                                               \n",
       "6                                                6.0                                                                                               \n",
       "7                                                4.0                                                                                               \n",
       "8                                                5.0                                                                                               \n",
       "9                                                1.0                                                                                               \n",
       "\n",
       "   Unnamed: 10  Unnamed: 11  Unnamed: 12  Unnamed: 13  Unnamed: 14  \\\n",
       "0          2.0          1.0          4.0          5.0          6.0   \n",
       "1          NaN          NaN          NaN          NaN          NaN   \n",
       "2          2.0          3.0          4.0          5.0          6.0   \n",
       "3          6.0          1.0          2.0          4.0          3.0   \n",
       "4          4.0          6.0          2.0          1.0          3.0   \n",
       "5          4.0          3.0          6.0          5.0          2.0   \n",
       "6          5.0          4.0          3.0          1.0          2.0   \n",
       "7          5.0          6.0          3.0          2.0          1.0   \n",
       "8          4.0          6.0          2.0          1.0          3.0   \n",
       "9          2.0          3.0          4.0          5.0          6.0   \n",
       "\n",
       "  Please state whether you view the following characters favorably, unfavorably, or are unfamiliar with him/her.  \\\n",
       "0                                     Very favorably                                                               \n",
       "1                                                NaN                                                               \n",
       "2                                 Somewhat favorably                                                               \n",
       "3                                     Very favorably                                                               \n",
       "4                                     Very favorably                                                               \n",
       "5                                     Very favorably                                                               \n",
       "6                                     Very favorably                                                               \n",
       "7                                     Very favorably                                                               \n",
       "8                                     Very favorably                                                               \n",
       "9        Neither favorably nor unfavorably (neutral)                                                               \n",
       "\n",
       "            Unnamed: 16         Unnamed: 17  \\\n",
       "0        Very favorably      Very favorably   \n",
       "1                   NaN                 NaN   \n",
       "2    Somewhat favorably  Somewhat favorably   \n",
       "3        Very favorably      Very favorably   \n",
       "4    Somewhat favorably  Somewhat favorably   \n",
       "5        Very favorably      Very favorably   \n",
       "6        Very favorably  Somewhat favorably   \n",
       "7    Somewhat favorably      Very favorably   \n",
       "8  Somewhat unfavorably  Somewhat favorably   \n",
       "9        Very favorably      Very favorably   \n",
       "\n",
       "                                   Unnamed: 18         Unnamed: 19  \\\n",
       "0                               Very favorably      Very favorably   \n",
       "1                                          NaN                 NaN   \n",
       "2                           Somewhat favorably  Somewhat favorably   \n",
       "3                               Very favorably      Very favorably   \n",
       "4                         Somewhat unfavorably      Very favorably   \n",
       "5                               Very favorably      Very favorably   \n",
       "6                           Somewhat favorably      Very favorably   \n",
       "7  Neither favorably nor unfavorably (neutral)      Very favorably   \n",
       "8                           Somewhat favorably  Somewhat favorably   \n",
       "9                               Very favorably      Very favorably   \n",
       "\n",
       "                                   Unnamed: 20           Unnamed: 21  \\\n",
       "0                               Very favorably        Very favorably   \n",
       "1                                          NaN                   NaN   \n",
       "2                             Unfamiliar (N/A)      Unfamiliar (N/A)   \n",
       "3                           Somewhat favorably        Very favorably   \n",
       "4                             Very unfavorably    Somewhat favorably   \n",
       "5  Neither favorably nor unfavorably (neutral)        Very favorably   \n",
       "6                               Very favorably        Very favorably   \n",
       "7                             Very unfavorably  Somewhat unfavorably   \n",
       "8                               Very favorably        Very favorably   \n",
       "9                         Somewhat unfavorably        Very favorably   \n",
       "\n",
       "                                   Unnamed: 22           Unnamed: 23  \\\n",
       "0                             Unfamiliar (N/A)      Unfamiliar (N/A)   \n",
       "1                                          NaN                   NaN   \n",
       "2                             Unfamiliar (N/A)      Unfamiliar (N/A)   \n",
       "3                           Somewhat favorably  Somewhat unfavorably   \n",
       "4  Neither favorably nor unfavorably (neutral)        Very favorably   \n",
       "5  Neither favorably nor unfavorably (neutral)    Somewhat favorably   \n",
       "6                               Very favorably        Very favorably   \n",
       "7  Neither favorably nor unfavorably (neutral)    Somewhat favorably   \n",
       "8                               Very favorably        Very favorably   \n",
       "9                         Somewhat unfavorably  Somewhat unfavorably   \n",
       "\n",
       "                                   Unnamed: 24         Unnamed: 25  \\\n",
       "0                               Very favorably      Very favorably   \n",
       "1                                          NaN                 NaN   \n",
       "2                             Unfamiliar (N/A)    Unfamiliar (N/A)   \n",
       "3                               Very favorably      Very favorably   \n",
       "4                           Somewhat favorably  Somewhat favorably   \n",
       "5                           Somewhat favorably  Somewhat favorably   \n",
       "6                           Somewhat favorably      Very favorably   \n",
       "7                           Somewhat favorably  Somewhat favorably   \n",
       "8  Neither favorably nor unfavorably (neutral)  Somewhat favorably   \n",
       "9                               Very favorably      Very favorably   \n",
       "\n",
       "            Unnamed: 26                                  Unnamed: 27  \\\n",
       "0        Very favorably                               Very favorably   \n",
       "1                   NaN                                          NaN   \n",
       "2      Unfamiliar (N/A)                             Unfamiliar (N/A)   \n",
       "3        Very favorably                               Very favorably   \n",
       "4      Very unfavorably                           Somewhat favorably   \n",
       "5    Somewhat favorably  Neither favorably nor unfavorably (neutral)   \n",
       "6  Somewhat unfavorably                           Somewhat favorably   \n",
       "7      Very unfavorably                         Somewhat unfavorably   \n",
       "8      Very unfavorably                         Somewhat unfavorably   \n",
       "9        Very favorably                         Somewhat unfavorably   \n",
       "\n",
       "          Unnamed: 28       Which character shot first?  \\\n",
       "0      Very favorably  I don't understand this question   \n",
       "1                 NaN                               NaN   \n",
       "2    Unfamiliar (N/A)  I don't understand this question   \n",
       "3      Very favorably  I don't understand this question   \n",
       "4  Somewhat favorably                            Greedo   \n",
       "5      Very favorably                               Han   \n",
       "6      Very favorably                               Han   \n",
       "7      Very favorably                               Han   \n",
       "8  Somewhat favorably                               Han   \n",
       "9      Very favorably  I don't understand this question   \n",
       "\n",
       "  Are you familiar with the Expanded Universe?  \\\n",
       "0                                          Yes   \n",
       "1                                          NaN   \n",
       "2                                           No   \n",
       "3                                           No   \n",
       "4                                          Yes   \n",
       "5                                          Yes   \n",
       "6                                          Yes   \n",
       "7                                           No   \n",
       "8                                           No   \n",
       "9                                           No   \n",
       "\n",
       "  Do you consider yourself to be a fan of the Expanded Universe?  \\\n",
       "0                                                 No               \n",
       "1                                                NaN               \n",
       "2                                                NaN               \n",
       "3                                                NaN               \n",
       "4                                                 No               \n",
       "5                                                 No               \n",
       "6                                                 No               \n",
       "7                                                NaN               \n",
       "8                                                NaN               \n",
       "9                                                NaN               \n",
       "\n",
       "  Do you consider yourself to be a fan of the Star Trek franchise? Gender  \\\n",
       "0                                                 No                 Male   \n",
       "1                                                Yes                 Male   \n",
       "2                                                 No                 Male   \n",
       "3                                                Yes                 Male   \n",
       "4                                                 No                 Male   \n",
       "5                                                Yes                 Male   \n",
       "6                                                 No                 Male   \n",
       "7                                                Yes                 Male   \n",
       "8                                                 No                 Male   \n",
       "9                                                 No                 Male   \n",
       "\n",
       "     Age     Household Income                         Education  \\\n",
       "0  18-29                  NaN                High school degree   \n",
       "1  18-29         $0 - $24,999                   Bachelor degree   \n",
       "2  18-29         $0 - $24,999                High school degree   \n",
       "3  18-29  $100,000 - $149,999  Some college or Associate degree   \n",
       "4  18-29  $100,000 - $149,999  Some college or Associate degree   \n",
       "5  18-29    $25,000 - $49,999                   Bachelor degree   \n",
       "6  18-29                  NaN                High school degree   \n",
       "7  18-29                  NaN                High school degree   \n",
       "8  18-29         $0 - $24,999  Some college or Associate degree   \n",
       "9  18-29    $25,000 - $49,999  Some college or Associate degree   \n",
       "\n",
       "  Location (Census Region)  \n",
       "0           South Atlantic  \n",
       "1       West South Central  \n",
       "2       West North Central  \n",
       "3       West North Central  \n",
       "4       West North Central  \n",
       "5          Middle Atlantic  \n",
       "6       East North Central  \n",
       "7           South Atlantic  \n",
       "8           South Atlantic  \n",
       "9                  Pacific  "
      ]
     },
     "execution_count": 3,
     "metadata": {},
     "output_type": "execute_result"
    }
   ],
   "source": [
    "star_wars = pd.read_csv(\"star_wars.csv\", encoding=\"ISO-8859-1\") # specify encoding - dataset not default utf-8 encoding \n",
    "star_wars.head(10)"
   ]
  },
  {
   "cell_type": "code",
   "execution_count": 4,
   "metadata": {},
   "outputs": [
    {
     "data": {
      "text/plain": [
       "Index(['RespondentID',\n",
       "       'Have you seen any of the 6 films in the Star Wars franchise?',\n",
       "       'Do you consider yourself to be a fan of the Star Wars film franchise?',\n",
       "       'Which of the following Star Wars films have you seen? Please select all that apply.',\n",
       "       'Unnamed: 4', 'Unnamed: 5', 'Unnamed: 6', 'Unnamed: 7', 'Unnamed: 8',\n",
       "       'Please rank the Star Wars films in order of preference with 1 being your favorite film in the franchise and 6 being your least favorite film.',\n",
       "       'Unnamed: 10', 'Unnamed: 11', 'Unnamed: 12', 'Unnamed: 13',\n",
       "       'Unnamed: 14',\n",
       "       'Please state whether you view the following characters favorably, unfavorably, or are unfamiliar with him/her.',\n",
       "       'Unnamed: 16', 'Unnamed: 17', 'Unnamed: 18', 'Unnamed: 19',\n",
       "       'Unnamed: 20', 'Unnamed: 21', 'Unnamed: 22', 'Unnamed: 23',\n",
       "       'Unnamed: 24', 'Unnamed: 25', 'Unnamed: 26', 'Unnamed: 27',\n",
       "       'Unnamed: 28', 'Which character shot first?',\n",
       "       'Are you familiar with the Expanded Universe?',\n",
       "       'Do you consider yourself to be a fan of the Expanded Universe?',\n",
       "       'Do you consider yourself to be a fan of the Star Trek franchise?',\n",
       "       'Gender', 'Age', 'Household Income', 'Education',\n",
       "       'Location (Census Region)'],\n",
       "      dtype='object')"
      ]
     },
     "execution_count": 4,
     "metadata": {},
     "output_type": "execute_result"
    }
   ],
   "source": [
    "star_wars.columns"
   ]
  },
  {
   "cell_type": "code",
   "execution_count": 5,
   "metadata": {},
   "outputs": [],
   "source": [
    "# define function to print unique values - it takes a datafame and column numbers\n",
    "def unq_vals(df, x,y):\n",
    "    for cols in df.columns[x:y]:\n",
    "        print (cols, 'value_counts')\n",
    "        print (df[cols].value_counts(dropna = False), '\\n')"
   ]
  },
  {
   "cell_type": "code",
   "execution_count": 6,
   "metadata": {},
   "outputs": [
    {
     "name": "stdout",
     "output_type": "stream",
     "text": [
      "Have you seen any of the 6 films in the Star Wars franchise? value_counts\n",
      "Yes    936\n",
      "No     250\n",
      "Name: Have you seen any of the 6 films in the Star Wars franchise?, dtype: int64 \n",
      "\n",
      "Do you consider yourself to be a fan of the Star Wars film franchise? value_counts\n",
      "Yes    552\n",
      "NaN    350\n",
      "No     284\n",
      "Name: Do you consider yourself to be a fan of the Star Wars film franchise?, dtype: int64 \n",
      "\n"
     ]
    }
   ],
   "source": [
    "# print unique values for columns 1 & 2\n",
    "unq_vals(star_wars, 1,3)"
   ]
  },
  {
   "cell_type": "code",
   "execution_count": 7,
   "metadata": {},
   "outputs": [
    {
     "name": "stdout",
     "output_type": "stream",
     "text": [
      "Which of the following Star Wars films have you seen? Please select all that apply. value_counts\n",
      "Star Wars: Episode I  The Phantom Menace    673\n",
      "NaN                                         513\n",
      "Name: Which of the following Star Wars films have you seen? Please select all that apply., dtype: int64 \n",
      "\n",
      "Unnamed: 4 value_counts\n",
      "NaN                                            615\n",
      "Star Wars: Episode II  Attack of the Clones    571\n",
      "Name: Unnamed: 4, dtype: int64 \n",
      "\n",
      "Unnamed: 5 value_counts\n",
      "NaN                                            636\n",
      "Star Wars: Episode III  Revenge of the Sith    550\n",
      "Name: Unnamed: 5, dtype: int64 \n",
      "\n",
      "Unnamed: 6 value_counts\n",
      "Star Wars: Episode IV  A New Hope    607\n",
      "NaN                                  579\n",
      "Name: Unnamed: 6, dtype: int64 \n",
      "\n",
      "Unnamed: 7 value_counts\n",
      "Star Wars: Episode V The Empire Strikes Back    758\n",
      "NaN                                             428\n",
      "Name: Unnamed: 7, dtype: int64 \n",
      "\n",
      "Unnamed: 8 value_counts\n",
      "Star Wars: Episode VI Return of the Jedi    738\n",
      "NaN                                         448\n",
      "Name: Unnamed: 8, dtype: int64 \n",
      "\n"
     ]
    }
   ],
   "source": [
    "# print unique values for columns 3 to 8\n",
    "unq_vals(star_wars, 3,9)"
   ]
  },
  {
   "cell_type": "code",
   "execution_count": 8,
   "metadata": {},
   "outputs": [
    {
     "name": "stdout",
     "output_type": "stream",
     "text": [
      "Please rank the Star Wars films in order of preference with 1 being your favorite film in the franchise and 6 being your least favorite film. value_counts\n",
      "NaN    351\n",
      "4.0    237\n",
      "6.0    168\n",
      "3.0    130\n",
      "1.0    129\n",
      "5.0    100\n",
      "2.0     71\n",
      "Name: Please rank the Star Wars films in order of preference with 1 being your favorite film in the franchise and 6 being your least favorite film., dtype: int64 \n",
      "\n",
      "Unnamed: 10 value_counts\n",
      "NaN    350\n",
      "5.0    300\n",
      "4.0    183\n",
      "2.0    116\n",
      "3.0    103\n",
      "6.0    102\n",
      "1.0     32\n",
      "Name: Unnamed: 10, dtype: int64 \n",
      "\n",
      "Unnamed: 11 value_counts\n",
      "NaN    351\n",
      "6.0    217\n",
      "5.0    203\n",
      "4.0    182\n",
      "3.0    150\n",
      "2.0     47\n",
      "1.0     36\n",
      "Name: Unnamed: 11, dtype: int64 \n",
      "\n",
      "Unnamed: 12 value_counts\n",
      "NaN    350\n",
      "1.0    204\n",
      "6.0    161\n",
      "2.0    135\n",
      "4.0    130\n",
      "3.0    127\n",
      "5.0     79\n",
      "Name: Unnamed: 12, dtype: int64 \n",
      "\n",
      "Unnamed: 13 value_counts\n",
      "NaN    350\n",
      "1.0    289\n",
      "2.0    235\n",
      "5.0    118\n",
      "3.0    106\n",
      "4.0     47\n",
      "6.0     41\n",
      "Name: Unnamed: 13, dtype: int64 \n",
      "\n",
      "Unnamed: 14 value_counts\n",
      "NaN    350\n",
      "2.0    232\n",
      "3.0    220\n",
      "1.0    146\n",
      "6.0    145\n",
      "4.0     57\n",
      "5.0     36\n",
      "Name: Unnamed: 14, dtype: int64 \n",
      "\n"
     ]
    }
   ],
   "source": [
    "# print unique values for columns 9 to 14\n",
    "unq_vals(star_wars, 9,15)"
   ]
  },
  {
   "cell_type": "markdown",
   "metadata": {},
   "source": [
    "### Observations\n",
    "\n",
    "The data exploration above reveals apparent need for cleaning for the relevant columns for this project. These include ambiguity in column names and values that would make it difficult for statistical analysis.\n",
    "\n",
    "* The second and third columns are named in such a way that may be handful when it requires to type out in coding and are prone to mistakes. Also, they contain 'Yes/No' values and in some cases NaN - where a respondent chose not to answer the questions.\n",
    "\n",
    "  * **Have you seen any of the 6 films in the Star Wars franchise?**\n",
    "  * **Do you consider yourself to be a fan of the Star Wars film franchise?**\n",
    "  \n",
    "\n",
    "* The next six subsequent columns where respondent are to select any (or all) of the episodes of the movie they have seen, have ambiguos names. Moreover, the values in each of the columns are either the name of the episode, which represents a respondent have seen the episode or NaN - respondent either did not see the episode or answered the question. These columns are;\n",
    "\n",
    "    * **Which of the following Star Wars films have you seen? Please select all that apply.**\n",
    "    * **Unnamed: 4**\n",
    "    * **Unnamed: 5**\n",
    "    * **Unnamed: 6**\n",
    "    * **Unnamed: 7**\n",
    "    * **Unnamed: 8**\n",
    "    \n",
    "    \n",
    "* The following six columns were used for ranking each of the episodes. Like the previous six columns, they are ambigiously named and contain the values (1, 2, 3, 4, 5, 6, or NaN) used for ranking. The columns are;\n",
    "\n",
    "    * **Please rank the Star Wars films in order of preference with 1 being your favorite film in the franchise and 6 being your least favorite film.**\n",
    "    * **Unnamed: 10**\n",
    "    * **Unnamed: 11**\n",
    "    * **Unnamed: 12**\n",
    "    * **Unnamed: 13**\n",
    "    * **Unnamed: 14**\n",
    "\n",
    "These mentioned issues will be addressed in the **Data Cleaning** section."
   ]
  },
  {
   "cell_type": "markdown",
   "metadata": {},
   "source": [
    "## Data Cleaning"
   ]
  },
  {
   "cell_type": "code",
   "execution_count": 9,
   "metadata": {},
   "outputs": [],
   "source": [
    "# rename columns to intuitive names\n",
    "\n",
    "star_wars.rename(columns={'Have you seen any of the 6 films in the Star Wars franchise?': 'seen_any', \n",
    "                          'Do you consider yourself to be a fan of the Star Wars film franchise?': 'Star_Wars_fan'}, inplace=True)"
   ]
  },
  {
   "cell_type": "code",
   "execution_count": 10,
   "metadata": {},
   "outputs": [],
   "source": [
    "# define mapping - 'Yes' = True, 'No' = False\n",
    "conv_to_bool = {'Yes': True,\n",
    "            'No': False\n",
    "            }\n",
    "\n",
    "# apply mapping on columns 1 & 2\n",
    "for col in star_wars.columns[1:3]:\n",
    "    star_wars[col] = star_wars[col].map(conv_to_bool)"
   ]
  },
  {
   "cell_type": "code",
   "execution_count": 11,
   "metadata": {},
   "outputs": [
    {
     "name": "stdout",
     "output_type": "stream",
     "text": [
      "seen_any value_counts\n",
      "True     936\n",
      "False    250\n",
      "Name: seen_any, dtype: int64 \n",
      "\n",
      "Star_Wars_fan value_counts\n",
      "True     552\n",
      "NaN      350\n",
      "False    284\n",
      "Name: Star_Wars_fan, dtype: int64 \n",
      "\n"
     ]
    }
   ],
   "source": [
    "unq_vals(star_wars, 1,3)"
   ]
  },
  {
   "cell_type": "code",
   "execution_count": 12,
   "metadata": {},
   "outputs": [],
   "source": [
    "# define mapping function -  name of movie = True, NaN = False\n",
    "\n",
    "def ep_bool(val):\n",
    "    if pd.isnull(val):\n",
    "        return False\n",
    "    else:\n",
    "        return True\n",
    "    \n",
    "# apply mapping function    \n",
    "star_wars.iloc[:,3:9] = star_wars.iloc[:,3:9].applymap(ep_bool)"
   ]
  },
  {
   "cell_type": "code",
   "execution_count": 13,
   "metadata": {
    "scrolled": true
   },
   "outputs": [],
   "source": [
    "# rename columns 3-8 to 'seen_1' through 'seen_6' - for all six episodes\n",
    "for c in range (3,9):\n",
    "    star_wars = star_wars.rename(columns = {star_wars.columns[c]: \n",
    "                                            'seen_{}'.format(c-2)})"
   ]
  },
  {
   "cell_type": "code",
   "execution_count": 14,
   "metadata": {},
   "outputs": [
    {
     "name": "stdout",
     "output_type": "stream",
     "text": [
      "seen_1 value_counts\n",
      "True     673\n",
      "False    513\n",
      "Name: seen_1, dtype: int64 \n",
      "\n",
      "seen_2 value_counts\n",
      "False    615\n",
      "True     571\n",
      "Name: seen_2, dtype: int64 \n",
      "\n",
      "seen_3 value_counts\n",
      "False    636\n",
      "True     550\n",
      "Name: seen_3, dtype: int64 \n",
      "\n",
      "seen_4 value_counts\n",
      "True     607\n",
      "False    579\n",
      "Name: seen_4, dtype: int64 \n",
      "\n",
      "seen_5 value_counts\n",
      "True     758\n",
      "False    428\n",
      "Name: seen_5, dtype: int64 \n",
      "\n",
      "seen_6 value_counts\n",
      "True     738\n",
      "False    448\n",
      "Name: seen_6, dtype: int64 \n",
      "\n"
     ]
    }
   ],
   "source": [
    "# print unique values for columns 1 & 2\n",
    "\n",
    "unq_vals(star_wars, 3,9)"
   ]
  },
  {
   "cell_type": "code",
   "execution_count": 15,
   "metadata": {},
   "outputs": [],
   "source": [
    "# rename columns 9-14 to 'ranking_1' through 'ranking_6'\n",
    "\n",
    "for c in range (9,15):\n",
    "    star_wars = star_wars.rename(columns = {star_wars.columns[c]: \n",
    "                                            'ranking_{}'.format(c-8)})\n",
    "    star_wars[star_wars.columns[9:15]].astype(float)"
   ]
  },
  {
   "cell_type": "code",
   "execution_count": 16,
   "metadata": {},
   "outputs": [
    {
     "name": "stdout",
     "output_type": "stream",
     "text": [
      "ranking_1 value_counts\n",
      "NaN    351\n",
      "4.0    237\n",
      "6.0    168\n",
      "3.0    130\n",
      "1.0    129\n",
      "5.0    100\n",
      "2.0     71\n",
      "Name: ranking_1, dtype: int64 \n",
      "\n",
      "ranking_2 value_counts\n",
      "NaN    350\n",
      "5.0    300\n",
      "4.0    183\n",
      "2.0    116\n",
      "3.0    103\n",
      "6.0    102\n",
      "1.0     32\n",
      "Name: ranking_2, dtype: int64 \n",
      "\n",
      "ranking_3 value_counts\n",
      "NaN    351\n",
      "6.0    217\n",
      "5.0    203\n",
      "4.0    182\n",
      "3.0    150\n",
      "2.0     47\n",
      "1.0     36\n",
      "Name: ranking_3, dtype: int64 \n",
      "\n",
      "ranking_4 value_counts\n",
      "NaN    350\n",
      "1.0    204\n",
      "6.0    161\n",
      "2.0    135\n",
      "4.0    130\n",
      "3.0    127\n",
      "5.0     79\n",
      "Name: ranking_4, dtype: int64 \n",
      "\n",
      "ranking_5 value_counts\n",
      "NaN    350\n",
      "1.0    289\n",
      "2.0    235\n",
      "5.0    118\n",
      "3.0    106\n",
      "4.0     47\n",
      "6.0     41\n",
      "Name: ranking_5, dtype: int64 \n",
      "\n",
      "ranking_6 value_counts\n",
      "NaN    350\n",
      "2.0    232\n",
      "3.0    220\n",
      "1.0    146\n",
      "6.0    145\n",
      "4.0     57\n",
      "5.0     36\n",
      "Name: ranking_6, dtype: int64 \n",
      "\n"
     ]
    }
   ],
   "source": [
    "# print unique values for columns 9 to 14\n",
    "unq_vals(star_wars, 9,15)"
   ]
  },
  {
   "cell_type": "markdown",
   "metadata": {},
   "source": [
    "### Summary\n",
    "\n",
    "In the **Data Cleaning** section, the relevant columns as mentioned in the data exploration section, were cleaned for consistency and to make it easy for statistical analysis. \n",
    "\n",
    "Specifically, the processes include renaming the columns and converting  some of the mentioned columns to a Boolean type. \n",
    "\n",
    "* For columns 1 and 2;\n",
    "    * The columns 'Have you seen any of the 6 films in the Star Wars franchise?' and 'Do you consider yourself to be a fan of the Star Wars film franchise?' were renamed to **'seen_any'** and **'Star_Wars_fan'** respectively.\n",
    "    \n",
    "    * The columns were also converted to a Boolean type where they contained, True or False, and in some cases NaN for missing values.\n",
    "\n",
    "\n",
    "* For 3-8 columns;\n",
    "    * Similarly, the next six columns were renamed 'Which of the following Star Wars films have you seen? Please select all that apply.', to 'Unnamed: 8' to **'seen_1**, through **'seen_6**\n",
    "\n",
    "    * The columns were converted to a Boolean type, where NaN values were converted to **False** and in cases where the value is the name of the movie, **True**\n",
    "\n",
    "\n",
    "* Columns 9-14;\n",
    "    * Again, the following six columns used for ranking the episodes of the movie were renamed to **'ranking_1'** through **'ranking_6'** from the previous 'Please rank the Star Wars films in order of preference with 1 being your favorite film in the franchise and 6 being your least favorite film.' through 'Unnamed: 14'.\n"
   ]
  },
  {
   "cell_type": "markdown",
   "metadata": {},
   "source": [
    "## Data Analysis"
   ]
  },
  {
   "cell_type": "code",
   "execution_count": 17,
   "metadata": {},
   "outputs": [
    {
     "name": "stdout",
     "output_type": "stream",
     "text": [
      "ranking_1    3.732934\n",
      "ranking_2    4.087321\n",
      "ranking_3    4.341317\n",
      "ranking_4    3.272727\n",
      "ranking_5    2.513158\n",
      "ranking_6    3.047847\n",
      "dtype: float64\n"
     ]
    }
   ],
   "source": [
    "# the average ranking for each ranking column\n",
    "rankings_mean = star_wars[star_wars.columns[9:15]].mean()\n",
    "print(rankings_mean)"
   ]
  },
  {
   "cell_type": "code",
   "execution_count": 18,
   "metadata": {},
   "outputs": [
    {
     "name": "stdout",
     "output_type": "stream",
     "text": [
      "seen_1    673\n",
      "seen_2    571\n",
      "seen_3    550\n",
      "seen_4    607\n",
      "seen_5    758\n",
      "seen_6    738\n",
      "dtype: int64\n"
     ]
    }
   ],
   "source": [
    "# compute sum of each seen columns\n",
    "\n",
    "seen_totals = star_wars[star_wars.columns[3:9]].sum()\n",
    "print(seen_totals)"
   ]
  },
  {
   "cell_type": "code",
   "execution_count": 19,
   "metadata": {},
   "outputs": [],
   "source": [
    "labels = ['E1', 'E2', 'E3', 'E4', 'E5', 'E6'] #label representing each episode for xticks\n",
    "x = np.arange(len(labels))  # the label locations\n",
    "\n",
    "def bar_chart(df, main_title=None):\n",
    "    df_chart = df.plot.bar(rot = 30)\n",
    "   \n",
    "    plt.xlabel(None)\n",
    "    plt.ylabel(None)\n",
    "    plt.xticks(x, labels)\n",
    "    plt.title (main_title)\n",
    "    \n",
    "    return df_chart"
   ]
  },
  {
   "cell_type": "code",
   "execution_count": 20,
   "metadata": {},
   "outputs": [
    {
     "data": {
      "image/png": "[encoded data removed]",
      "text/plain": [
       "<Figure size 600x400 with 1 Axes>"
      ]
     },
     "metadata": {},
     "output_type": "display_data"
    }
   ],
   "source": [
    "seen_totals_chart = bar_chart(seen_totals, 'Total Seen')\n",
    "plt.xlabel('Episodes')\n",
    "plt.ylabel('Totals')\n",
    "seen_totals_chart;"
   ]
  },
  {
   "cell_type": "code",
   "execution_count": 21,
   "metadata": {
    "scrolled": true
   },
   "outputs": [
    {
     "data": {
      "image/png": "[encoded data removed]",
      "text/plain": [
       "<Figure size 600x400 with 1 Axes>"
      ]
     },
     "metadata": {},
     "output_type": "display_data"
    }
   ],
   "source": [
    "rankings_mean_chart = bar_chart(rankings_mean, 'Average ranking for each episode')\n",
    "plt.xlabel('Episodes')\n",
    "plt.ylabel('Average ranking')\n",
    "rankings_mean_chart;"
   ]
  },
  {
   "cell_type": "markdown",
   "metadata": {},
   "source": [
    "### Observation\n",
    "\n",
    "* It appears the Episodes seen is positively correlated to the episodes ranking. The more the respondents have seen an episode, the higher the ranking and vice versa.\n",
    "\n",
    "* The Episode 5 is the most seen episode and it is the highest ranked while Episode 3 is the least seen episode and lowest ranked."
   ]
  },
  {
   "cell_type": "markdown",
   "metadata": {},
   "source": [
    "## Analysis on those who have seen all 6 episodes\n",
    "\n",
    "In this section, analysis will be based on respondents who have seen all the 6 episodes "
   ]
  },
  {
   "cell_type": "code",
   "execution_count": 22,
   "metadata": {},
   "outputs": [],
   "source": [
    "# add a new column to sum the number of episodes a respondent has seen\n",
    "star_wars['seen_counts'] = star_wars[star_wars.columns[3:9]].sum(axis=1)"
   ]
  },
  {
   "cell_type": "code",
   "execution_count": 23,
   "metadata": {},
   "outputs": [
    {
     "name": "stdout",
     "output_type": "stream",
     "text": [
      "seen_any value_counts\n",
      "True    471\n",
      "Name: seen_any, dtype: int64 \n",
      "\n",
      "Star_Wars_fan value_counts\n",
      "True     411\n",
      "False     60\n",
      "Name: Star_Wars_fan, dtype: int64 \n",
      "\n"
     ]
    }
   ],
   "source": [
    "seen_all = star_wars[star_wars['seen_counts'] == 6]\n",
    "unq_vals(seen_all, 1,3)"
   ]
  },
  {
   "cell_type": "code",
   "execution_count": 24,
   "metadata": {},
   "outputs": [
    {
     "data": {
      "text/plain": [
       "ranking_1    4.237792\n",
       "ranking_2    4.326964\n",
       "ranking_3    4.253191\n",
       "ranking_4    2.866242\n",
       "ranking_5    2.380042\n",
       "ranking_6    2.932059\n",
       "dtype: float64"
      ]
     },
     "execution_count": 24,
     "metadata": {},
     "output_type": "execute_result"
    }
   ],
   "source": [
    "seen_all_rankings = seen_all[seen_all.columns[9:15]].mean()\n",
    "seen_all_rankings"
   ]
  },
  {
   "cell_type": "code",
   "execution_count": 25,
   "metadata": {},
   "outputs": [
    {
     "data": {
      "image/png": "[encoded data removed]",
      "text/plain": [
       "<Figure size 600x400 with 1 Axes>"
      ]
     },
     "metadata": {},
     "output_type": "display_data"
    }
   ],
   "source": [
    "seen_all_rankings_chart = bar_chart(seen_all_rankings, 'Average ranking for each episode')\n",
    "plt.xlabel('Episodes')\n",
    "plt.ylabel('Average ranking')\n",
    "seen_all_rankings_chart;"
   ]
  },
  {
   "cell_type": "markdown",
   "metadata": {},
   "source": [
    "### Observation\n",
    "\n",
    "The analysis above shows a significantly interesting revelations about the dataset.\n",
    "\n",
    "* About 50% of the respondents have seen all the six episodes of the franchise.\n",
    "\n",
    "* There are 60 respondents who have seen all the six episodes who are not fans of the franchise.\n",
    "\n",
    "* Those who have seen all the six episodes rank Episode 5 the highest whilst Episode 3 is the lowest-ranked. This is consistent with the rankings of all the respondents including those who have seen at least one episode."
   ]
  },
  {
   "cell_type": "markdown",
   "metadata": {},
   "source": [
    "## Analysis by Gender\n",
    "\n",
    "In this section, the data will be split into two groups based on whether a respondent is a Male of Female. This is to analyse the most viewed and the highest-ranked movie separately for each group of gender."
   ]
  },
  {
   "cell_type": "code",
   "execution_count": 26,
   "metadata": {},
   "outputs": [
    {
     "data": {
      "text/plain": [
       "Female    549\n",
       "Male      497\n",
       "NaN       140\n",
       "Name: Gender, dtype: int64"
      ]
     },
     "execution_count": 26,
     "metadata": {},
     "output_type": "execute_result"
    }
   ],
   "source": [
    "star_wars[\"Gender\"].value_counts(dropna= False)"
   ]
  },
  {
   "cell_type": "code",
   "execution_count": 27,
   "metadata": {},
   "outputs": [],
   "source": [
    "male_resp = star_wars[star_wars[\"Gender\"] == \"Male\"]\n",
    "female_resp = star_wars[star_wars[\"Gender\"] == \"Female\"]"
   ]
  },
  {
   "cell_type": "code",
   "execution_count": 28,
   "metadata": {},
   "outputs": [
    {
     "name": "stdout",
     "output_type": "stream",
     "text": [
      "seen_any value_counts\n",
      "True     423\n",
      "False     74\n",
      "Name: seen_any, dtype: int64 \n",
      "\n",
      "Star_Wars_fan value_counts\n",
      "True     303\n",
      "False    120\n",
      "NaN       74\n",
      "Name: Star_Wars_fan, dtype: int64 \n",
      "\n"
     ]
    }
   ],
   "source": [
    "unq_vals(male_resp, 1,3)"
   ]
  },
  {
   "cell_type": "code",
   "execution_count": 29,
   "metadata": {},
   "outputs": [
    {
     "name": "stdout",
     "output_type": "stream",
     "text": [
      "seen_any value_counts\n",
      "True     397\n",
      "False    152\n",
      "Name: seen_any, dtype: int64 \n",
      "\n",
      "Star_Wars_fan value_counts\n",
      "True     238\n",
      "False    159\n",
      "NaN      152\n",
      "Name: Star_Wars_fan, dtype: int64 \n",
      "\n"
     ]
    }
   ],
   "source": [
    "unq_vals(female_resp, 1,3)"
   ]
  },
  {
   "cell_type": "code",
   "execution_count": 30,
   "metadata": {},
   "outputs": [
    {
     "data": {
      "text/plain": [
       "85.0"
      ]
     },
     "execution_count": 30,
     "metadata": {},
     "output_type": "execute_result"
    }
   ],
   "source": [
    "# percentage of males who have seen any episode \n",
    "round(male_resp['seen_any'].sum() / len(male_resp['Gender']) * 100)"
   ]
  },
  {
   "cell_type": "code",
   "execution_count": 31,
   "metadata": {},
   "outputs": [
    {
     "data": {
      "text/plain": [
       "72.0"
      ]
     },
     "execution_count": 31,
     "metadata": {},
     "output_type": "execute_result"
    }
   ],
   "source": [
    "# percentage of females who have seen any episode \n",
    "round(female_resp['seen_any'].sum() / len(female_resp['Gender']) * 100)"
   ]
  },
  {
   "cell_type": "code",
   "execution_count": 32,
   "metadata": {},
   "outputs": [
    {
     "data": {
      "text/plain": [
       "71.63120567375887"
      ]
     },
     "execution_count": 32,
     "metadata": {},
     "output_type": "execute_result"
    }
   ],
   "source": [
    "# percentage of males who have seen any episode and are fans\n",
    "male_resp['Star_Wars_fan'].sum() / male_resp['seen_any'].sum() * 100"
   ]
  },
  {
   "cell_type": "code",
   "execution_count": 33,
   "metadata": {},
   "outputs": [
    {
     "data": {
      "text/plain": [
       "59.949622166246854"
      ]
     },
     "execution_count": 33,
     "metadata": {},
     "output_type": "execute_result"
    }
   ],
   "source": [
    "# percentage of females who have seen any episode and are fans\n",
    "female_resp['Star_Wars_fan'].sum() / female_resp['seen_any'].sum() * 100"
   ]
  },
  {
   "cell_type": "markdown",
   "metadata": {},
   "source": [
    "### Observation\n",
    "\n",
    "* The Gender column contains Male, Female values which represent the gender of a respondent and in some cases NaN where respondents did not answer. The data shows\n",
    "\n",
    "    * There were more Female respondents than there were Males\n",
    "    * Also, there were some missing values represented by NaN which was around 8% of the data. These values will be ignored in further analysis as doing so would not impact on the outcome.\n",
    "    \n",
    "    \n",
    "* Moreover, the Gender column shows more male respondents have seen at least one episode of the franchise than females have.\n",
    "\n",
    "\n",
    "* Of the respondents who have seen at least one episode, more males consider themselves as fans of the franchise than female repsondents."
   ]
  },
  {
   "cell_type": "code",
   "execution_count": 34,
   "metadata": {
    "scrolled": true
   },
   "outputs": [
    {
     "name": "stdout",
     "output_type": "stream",
     "text": [
      "seen_1    361\n",
      "seen_2    323\n",
      "seen_3    317\n",
      "seen_4    342\n",
      "seen_5    392\n",
      "seen_6    387\n",
      "dtype: int64\n"
     ]
    }
   ],
   "source": [
    "male_seen_totals = male_resp[male_resp.columns[3:9]].sum()\n",
    "print(male_seen_totals)"
   ]
  },
  {
   "cell_type": "code",
   "execution_count": 35,
   "metadata": {},
   "outputs": [
    {
     "name": "stdout",
     "output_type": "stream",
     "text": [
      "seen_1    298\n",
      "seen_2    237\n",
      "seen_3    222\n",
      "seen_4    255\n",
      "seen_5    353\n",
      "seen_6    338\n",
      "dtype: int64\n"
     ]
    }
   ],
   "source": [
    "female_seen_totals = female_resp[female_resp.columns[3:9]].sum()\n",
    "print(female_seen_totals)"
   ]
  },
  {
   "cell_type": "code",
   "execution_count": 36,
   "metadata": {},
   "outputs": [
    {
     "data": {
      "image/png": "[encoded data removed]",
      "text/plain": [
       "<Figure size 600x400 with 1 Axes>"
      ]
     },
     "metadata": {},
     "output_type": "display_data"
    }
   ],
   "source": [
    "width = 0.3  # the width of the bars\n",
    "\n",
    "fig, ax = plt.subplots()\n",
    "bars1 = ax.bar(x - width/2, male_seen_totals, width, label='Male')\n",
    "bars2 = ax.bar(x + width/2, female_seen_totals, width, label='Female')\n",
    "\n",
    "# Add some text for labels, title and custom x-axis tick labels.\n",
    "ax.set_xlabel('Episodes')\n",
    "ax.set_ylabel('Seen')\n",
    "ax.set_title('Number of people who have seen an Episode - by Gender')\n",
    "plt.xticks(x, labels)\n",
    "\n",
    "ax.legend()\n",
    "\n",
    "\n",
    "fig.tight_layout()\n",
    "\n",
    "plt.show()"
   ]
  },
  {
   "cell_type": "code",
   "execution_count": 37,
   "metadata": {},
   "outputs": [
    {
     "name": "stdout",
     "output_type": "stream",
     "text": [
      "ranking_1    4.037825\n",
      "ranking_2    4.224586\n",
      "ranking_3    4.274882\n",
      "ranking_4    2.997636\n",
      "ranking_5    2.458629\n",
      "ranking_6    3.002364\n",
      "dtype: float64\n"
     ]
    }
   ],
   "source": [
    "male_rankings_mean = male_resp[male_resp.columns[9:15]].mean()\n",
    "print(male_rankings_mean)"
   ]
  },
  {
   "cell_type": "code",
   "execution_count": 38,
   "metadata": {},
   "outputs": [
    {
     "name": "stdout",
     "output_type": "stream",
     "text": [
      "ranking_1    3.429293\n",
      "ranking_2    3.954660\n",
      "ranking_3    4.418136\n",
      "ranking_4    3.544081\n",
      "ranking_5    2.569270\n",
      "ranking_6    3.078086\n",
      "dtype: float64\n"
     ]
    }
   ],
   "source": [
    "female_rankings_mean = female_resp[female_resp.columns[9:15]].mean()\n",
    "print(female_rankings_mean)"
   ]
  },
  {
   "cell_type": "code",
   "execution_count": 39,
   "metadata": {},
   "outputs": [
    {
     "data": {
      "image/png": "[encoded data removed]",
      "text/plain": [
       "<Figure size 600x400 with 1 Axes>"
      ]
     },
     "metadata": {},
     "output_type": "display_data"
    }
   ],
   "source": [
    "fig, ax = plt.subplots()\n",
    "bars1 = ax.bar(x - width/2, male_rankings_mean, width, label='Male')\n",
    "bars2 = ax.bar(x + width/2, female_rankings_mean, width, label='Female')\n",
    "\n",
    "# Add some text for labels, title and custom x-axis tick labels\n",
    "ax.set_xlabel('Episodes')\n",
    "ax.set_ylabel('Ranking')\n",
    "ax.set_title('Episode Rankings by Gender')\n",
    "plt.xticks(x, labels)\n",
    "\n",
    "ax.legend()\n",
    "\n",
    "fig.tight_layout()\n",
    "\n",
    "plt.show()"
   ]
  },
  {
   "cell_type": "markdown",
   "metadata": {},
   "source": [
    "### Observations\n",
    "\n",
    "Further investigations of the Gender column with regards to the most viewed movie and the highest-ranked movie reveals that;\n",
    "\n",
    "* The Episode 5 of the franchise is the most viewed amongst both groups of respondents - Males & Females.  \n",
    "\n",
    "* Similarly, the most seen episodes are the highest ranked movie by each group and vice versa which is a reflection of the total outcome. \n",
    "\n",
    "* There appears to be a pattern where the highest-ranked movie by each group is also the most viewed and the lowest-ranked movie the least watched. It appears there is correlation between the movie seen and ranking.\n",
    "\n",
    "* Male respondents generally ranked the episodes 3, 4, 5 & 6 higher than female respondents. Interestingly, female respondents ranked episodes 1 & 2 higher than male respondents.  "
   ]
  },
  {
   "cell_type": "markdown",
   "metadata": {},
   "source": [
    "# Conclusion\n",
    "\n",
    "This current project mirrors the project by the team at [FiveThirtyEight](https://fivethirtyeight.com/) in determining the best episode of the six episodes of Star Wars. The team hypothesized that **\"The Empire Strikes Back\"**, Episode 5 of the franchise is the best, and sought to verify that through a [survey](https://github.com/fivethirtyeight/data/tree/master/star-wars-survey) of American Star Wars fans. The six episodes are\n",
    "\n",
    "* **\"The Phantom Menace\"** - Episode 1\n",
    "* **\"Attack of the Clones\"** - Episode 2\n",
    "* **\"Revenge of the Sith\"** - Episode 3\n",
    "* **\"A New Hope\"** - Episode 4\n",
    "* **\"The Empire Strikes Back\"** - Episode 5\n",
    "* **\"Return of the Jedi\"** - Episode 6\n",
    "\n",
    "The current project used the survey collected by the team. The analysis in this project took 2 approaches - general and narrow analysis. \n",
    "\n",
    "* A general analysis was made on the entire dataset to determine the most watched and the highest-ranked episode. \n",
    "\n",
    "* Whiles in the narrow analysis, the dataset was segmented based on gender of the respondents\n",
    "\n",
    "* A similar narrow analysis was made with a narrowed dataset of respondents who have seen all the episodes.\n",
    "\n",
    "The findings in this current project reveal that;\n",
    "\n",
    "* Generally, the most watched episode is **\"The Empire Strikes Back\"**. It is also, the highest-ranked episodes amongst all respondents.\n",
    "\n",
    "* **\"The Empire Strikes Back\"** is still the most watched and highest-ranked episode amongst respondents who have seen all six episodes of the franchise.\n",
    "\n",
    "* Similarly, the most watched and highest-ranked episode is **\"The Empire Strikes Back\"** amongst both male and female respondents.\n",
    "\n",
    "The findings in this current project is consistent with the hypothesis and [findings](https://fivethirtyeight.com/features/americas-favorite-star-wars-movies-and-least-favorite-characters/) of the team at FiveThirtyEight. \n",
    "\n",
    "### Potential Next Steps\n",
    "\n",
    "The data in this project has potential for further exploration and analysis. There are more columns that can be explored and delved into to provide interesting findings\n",
    "\n",
    "* Potentially, the \"Education\", \"Location (Census Region)\", and \"Which character shot first?\" may be explored and could reveal interesting patterns\n",
    "\n",
    "* What could be said of the characters, most liked, or disliked, most controversial?"
   ]
  }
 ],
 "metadata": {
  "kernelspec": {
   "display_name": "Python 3",
   "language": "python",
   "name": "python3"
  },
  "language_info": {
   "codemirror_mode": {
    "name": "ipython",
    "version": 3
   },
   "file_extension": ".py",
   "mimetype": "text/x-python",
   "name": "python",
   "nbconvert_exporter": "python",
   "pygments_lexer": "ipython3",
   "version": "3.8.2"
  }
 },
 "nbformat": 4,
 "nbformat_minor": 1
}
